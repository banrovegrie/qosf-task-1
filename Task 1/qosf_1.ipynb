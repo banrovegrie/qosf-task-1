{
  "nbformat": 4,
  "nbformat_minor": 0,
  "metadata": {
    "colab": {
      "name": "qosf_1.ipynb",
      "provenance": [],
      "collapsed_sections": []
    },
    "kernelspec": {
      "name": "python3",
      "display_name": "Python 3"
    },
    "language_info": {
      "name": "python"
    }
  },
  "cells": [
    {
      "cell_type": "code",
      "metadata": {
        "id": "RUvND-uic57d"
      },
      "source": [
        "try:\n",
        "    import cirq\n",
        "    import cirq_google\n",
        "    import numpy as np\n",
        "    import math\n",
        "except ImportError:\n",
        "    print(\"installing cirq...\")\n",
        "    !pip install --quiet cirq\n",
        "    print(\"installed cirq.\")\n",
        "    import cirq\n",
        "    import cirq_google\n",
        "    import numpy as np\n",
        "    import math"
      ],
      "execution_count": null,
      "outputs": []
    },
    {
      "cell_type": "code",
      "metadata": {
        "id": "qRqqRZK0gM8W"
      },
      "source": [
        "# # Taking the vector of integers as input\n",
        "# arr = []\n",
        "# n = int(input(\"Enter number of elements : \"))\n",
        "# for i in range(0, n):\n",
        "#     arr.append(int(input()))\n",
        "n = 6\n",
        "arr = [1, 5, 2, 4, 10, 8]"
      ],
      "execution_count": 139,
      "outputs": []
    },
    {
      "cell_type": "code",
      "metadata": {
        "id": "0OfpsyA4g-L_"
      },
      "source": [
        "# Convert a number into its binary representation\n",
        "def binary(num, l):\n",
        "    s = bin(num).split('0b')[1]\n",
        "    while len(s) < l:\n",
        "        s = '0' + s\n",
        "    return s"
      ],
      "execution_count": 140,
      "outputs": []
    },
    {
      "cell_type": "code",
      "metadata": {
        "id": "4dgSYeAGh8dI"
      },
      "source": [
        "# Check if all tupples of adjacent bits are different\n",
        "def check(num, l):\n",
        "    binary_val = binary(num, l)\n",
        "    for i in range(1, len(binary_val)):\n",
        "        if binary_val[i] == binary_val[i - 1]:\n",
        "            return False\n",
        "    return True"
      ],
      "execution_count": 141,
      "outputs": []
    },
    {
      "cell_type": "code",
      "metadata": {
        "id": "wlp_WxK2jg_i"
      },
      "source": [
        "# Binary length of an integer\n",
        "def bin_len(num):\n",
        "    return int(math.ceil(math.log2(num)))\n",
        "\n",
        "# Maximum binary length of a list of integers\n",
        "def max_bin_len(nums):\n",
        "    return int(max([bin_len(i) for i in nums]))"
      ],
      "execution_count": 142,
      "outputs": []
    },
    {
      "cell_type": "code",
      "metadata": {
        "id": "P7KUHWPAi_MN"
      },
      "source": [
        "# List of indices of integers whose binary representation is such \n",
        "# that two adjacent bits are different\n",
        "def get_list(nums):\n",
        "    l = max_bin_len(nums)\n",
        "    return [i for i in range(len(nums)) if check(nums[i], l)]"
      ],
      "execution_count": 143,
      "outputs": []
    },
    {
      "cell_type": "code",
      "metadata": {
        "id": "-dPv4YNqa9t3"
      },
      "source": [
        "# Constructing the circuit\n",
        "indices = get_list(arr)\n",
        "number_of_qubits = bin_len(n)"
      ],
      "execution_count": 144,
      "outputs": []
    },
    {
      "cell_type": "code",
      "metadata": {
        "id": "7B-cg1DvizVB"
      },
      "source": [
        "# Create a vector representing the required state\n",
        "q = cirq.LineQubit.range(number_of_qubits)\n",
        "k = 1 / math.sqrt(len(indices))\n",
        "\n",
        "params = []\n",
        "for i in range(2 ** number_of_qubits):\n",
        "    if i in indices:\n",
        "        params.append(k)\n",
        "    else:\n",
        "        params.append(0)"
      ],
      "execution_count": 145,
      "outputs": []
    },
    {
      "cell_type": "code",
      "metadata": {
        "id": "M3TkWYFmhYtd"
      },
      "source": [
        "# Creating the binary tree\n",
        "tree = [0] * (2 ** (number_of_qubits + 1))"
      ],
      "execution_count": 146,
      "outputs": []
    },
    {
      "cell_type": "code",
      "metadata": {
        "id": "pyw35CVglkdS"
      },
      "source": [
        "# Generating transition probabilities across the leaves\n",
        "def generating_leaves(tree, leaves, n):\n",
        "    # Generating leaves\n",
        "    index = 2 ** n\n",
        "    for i in range(len(leaves)):\n",
        "        tree[index + i] = leaves[i]\n",
        "    return tree"
      ],
      "execution_count": 147,
      "outputs": []
    },
    {
      "cell_type": "code",
      "metadata": {
        "id": "Sgfdp6XEm5tz"
      },
      "source": [
        "# Generating transition probabilities across the tree\n",
        "def generation(tree, leaves, n):\n",
        "    tree = generating_leaves(tree, leaves, n)\n",
        "    for i in range(2 ** n - 1, 0, -1):\n",
        "        l = tree[2 * i]\n",
        "        r = tree[2 * i + 1]\n",
        "        tree[i] = (l ** 2 + r ** 2) ** 0.5\n",
        "        if tree[i] == 0:\n",
        "            tree[2 * i] = 0\n",
        "            tree[2 * i  + 1] = 0\n",
        "        else:\n",
        "            tree[2 * i] = l / tree[i]\n",
        "            tree[2 * i + 1] = r / tree[i]\n",
        "    return tree"
      ],
      "execution_count": 150,
      "outputs": []
    },
    {
      "cell_type": "code",
      "metadata": {
        "colab": {
          "base_uri": "https://localhost:8080/"
        },
        "id": "q3ev3xH8oKTX",
        "outputId": "fa02ad99-8343-4d26-d280-1358b20a4167"
      },
      "source": [
        "tree = generation(tree, params, number_of_qubits)\n",
        "print(tree)"
      ],
      "execution_count": 151,
      "outputs": [
        {
          "output_type": "stream",
          "name": "stdout",
          "text": [
            "[0, 0.9999999999999999, 0.7071067811865476, 0.7071067811865476, 1.0, 0.0, 1.0, 0.0, 0.0, 1.0, 0, 0, 1.0, 0.0, 0, 0]\n"
          ]
        }
      ]
    },
    {
      "cell_type": "code",
      "metadata": {
        "id": "autGenHZriTV"
      },
      "source": [
        "def theta(l):\n",
        "    return np.angle(complex(np.absolute(l), np.absolute((1 - l ** 2) ** 0.5)))"
      ],
      "execution_count": 152,
      "outputs": []
    },
    {
      "cell_type": "code",
      "metadata": {
        "id": "wgAm1P11xkGb"
      },
      "source": [
        "def cleaned_binary(ind):\n",
        "    s = bin(ind).split('0b')[1]\n",
        "    return [int(x) for x in list(s[1:])]"
      ],
      "execution_count": 153,
      "outputs": []
    },
    {
      "cell_type": "code",
      "metadata": {
        "id": "zFJb1JHp4hw0"
      },
      "source": [
        "# Declaring the circuit\n",
        "circ = cirq.Circuit()"
      ],
      "execution_count": 154,
      "outputs": []
    },
    {
      "cell_type": "code",
      "metadata": {
        "colab": {
          "base_uri": "https://localhost:8080/"
        },
        "id": "oybPihgiG-gg",
        "outputId": "76962415-1d47-4525-e4fd-15d5eab2daf2"
      },
      "source": [
        "print(cleaned_binary(6))\n",
        "print(tree)\n",
        "for ind, x in enumerate(tree):\n",
        "    print(ind, x)"
      ],
      "execution_count": 155,
      "outputs": [
        {
          "output_type": "stream",
          "name": "stdout",
          "text": [
            "[1, 0]\n",
            "[0, 0.9999999999999999, 0.7071067811865476, 0.7071067811865476, 1.0, 0.0, 1.0, 0.0, 0.0, 1.0, 0, 0, 1.0, 0.0, 0, 0]\n",
            "0 0\n",
            "1 0.9999999999999999\n",
            "2 0.7071067811865476\n",
            "3 0.7071067811865476\n",
            "4 1.0\n",
            "5 0.0\n",
            "6 1.0\n",
            "7 0.0\n",
            "8 0.0\n",
            "9 1.0\n",
            "10 0\n",
            "11 0\n",
            "12 1.0\n",
            "13 0.0\n",
            "14 0\n",
            "15 0\n"
          ]
        }
      ]
    },
    {
      "cell_type": "code",
      "metadata": {
        "id": "Braa5yr5w-b7"
      },
      "source": [
        "def construct(tree, number_of_qubits, qubits):\n",
        "    # assuming that qubits are set to \\ket{0}\n",
        "    circ = cirq.Circuit()\n",
        "    for x in qubits:\n",
        "        cirq.reset(x)\n",
        "        # print(cirq.Simulator().simulate(cirq.Circuit([cirq.measure(x, key='result')])))\n",
        "\n",
        "    for index in range(1, 2 ** number_of_qubits):\n",
        "        l = tree[2*index]\n",
        "        angle = 2 *theta(l)/np.pi\n",
        "        bits = cleaned_binary(index)\n",
        "\n",
        "        # applying rotation\n",
        "        height = int(np.floor(np.log2(index)))\n",
        "        print(index, bits, angle, height, qubits[height], qubits[:height])\n",
        "        if height == 0:\n",
        "            circ.append(cirq.YPowGate(exponent=angle).on(qubits[0]))\n",
        "        else:\n",
        "            circ.append(cirq.YPowGate(exponent=angle).on(qubits[height]).controlled_by(*qubits[:height], control_values=bits))\n",
        "    return circ"
      ],
      "execution_count": 156,
      "outputs": []
    },
    {
      "cell_type": "code",
      "metadata": {
        "colab": {
          "base_uri": "https://localhost:8080/"
        },
        "id": "TGXR22MoyQL1",
        "outputId": "093b16da-c130-47b5-db19-aa058cbdc5e0"
      },
      "source": [
        "circ = construct(tree, number_of_qubits, q)\n",
        "print(circ)"
      ],
      "execution_count": 157,
      "outputs": [
        {
          "output_type": "stream",
          "name": "stdout",
          "text": [
            "1 [] 0.5 0 0 []\n",
            "2 [0] 0.0 1 1 [cirq.LineQubit(0)]\n",
            "3 [1] 0.0 1 1 [cirq.LineQubit(0)]\n",
            "4 [0, 0] 1.0 2 2 [cirq.LineQubit(0), cirq.LineQubit(1)]\n",
            "5 [0, 1] 1.0 2 2 [cirq.LineQubit(0), cirq.LineQubit(1)]\n",
            "6 [1, 0] 0.0 2 2 [cirq.LineQubit(0), cirq.LineQubit(1)]\n",
            "7 [1, 1] 1.0 2 2 [cirq.LineQubit(0), cirq.LineQubit(1)]\n",
            "0: ───Y^0.5───(0)───@─────(0)───(0)───@─────@───\n",
            "              │     │     │     │     │     │\n",
            "1: ───────────Y^0───Y^0───(0)───@─────(0)───@───\n",
            "                          │     │     │     │\n",
            "2: ───────────────────────Y─────Y─────Y^0───Y───\n"
          ]
        }
      ]
    },
    {
      "cell_type": "code",
      "metadata": {
        "id": "TPbXn5ZL4tVP"
      },
      "source": [
        "simulator = cirq.Simulator()\n",
        "val = simulator.simulate(circ)\n",
        "state = val.final_state_vector"
      ],
      "execution_count": 179,
      "outputs": []
    },
    {
      "cell_type": "code",
      "metadata": {
        "colab": {
          "base_uri": "https://localhost:8080/"
        },
        "id": "X01JjObLQ7jD",
        "outputId": "8293e93c-f404-4cb6-d98f-8cad9df2589a"
      },
      "source": [
        "# Required state\n",
        "print(state)"
      ],
      "execution_count": 180,
      "outputs": [
        {
          "output_type": "stream",
          "name": "stdout",
          "text": [
            "[ 0. +0.j  -0.5+0.5j  0. +0.j   0. +0.j   0.5+0.5j  0. +0.j   0. +0.j\n",
            "  0. +0.j ]\n"
          ]
        }
      ]
    }
  ]
}